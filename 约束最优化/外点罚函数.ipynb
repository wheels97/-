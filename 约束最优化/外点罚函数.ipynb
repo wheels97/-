{
 "cells": [
  {
   "cell_type": "code",
   "execution_count": 1,
   "metadata": {},
   "outputs": [],
   "source": [
    "import numpy as np\n",
    "import numpy.matlib \n",
    "from numpy import matrix as mat"
   ]
  },
  {
   "cell_type": "code",
   "execution_count": 2,
   "metadata": {},
   "outputs": [],
   "source": [
    "def f(x,M):#目标函数\n",
    "    if float(x[1])>= 1:\n",
    "        return float(-x[0]+x[1]+M*(x[0]+x[1]-1)**2)\n",
    "    else:\n",
    "        return float(-x[0]+x[1]+M*((x[0]+x[1]-1)**2+x[1]**2))\n",
    "\n",
    "def df(x):#计算梯度 \n",
    "    if float(x[1])>= 1:\n",
    "        return mx(float(2*M*x[0]+2*M*x[1]-(2*M+1)),float(2*M*x[1]+2*M*x[0]-(2*M-1)))\n",
    "    else:\n",
    "        return mx(float(2*M*x[0]+2*M*x[1]-(2*M+1)),float(4*M*x[1]+2*M*x[0]-(2*M-1)))\n",
    "    \n",
    "def mx(x1,x2):#构造矩阵[[x1],[x2]]\n",
    "    return mat([[x1],[x2]])\n",
    "\n",
    "def mode(g):\n",
    "    return ((float(g[0])**2+float(g[1]**2))**(0.5))"
   ]
  },
  {
   "cell_type": "code",
   "execution_count": 3,
   "metadata": {},
   "outputs": [],
   "source": [
    "def Newton(f,A,X):\n",
    "    global X1\n",
    "    n = 0\n",
    "    eps = 0.001#误差精度\n",
    "    g = df(X)\n",
    "    while mode(g)>=eps:\n",
    "        if n>= 1:\n",
    "            X = X1\n",
    "        fx = f(X,M)\n",
    "        X1 = X-A.I*g\n",
    "        g = df(X1)\n",
    "        n += 1\n",
    "    return X1,f(X1,M)"
   ]
  },
  {
   "cell_type": "code",
   "execution_count": 4,
   "metadata": {},
   "outputs": [
    {
     "name": "stdout",
     "output_type": "stream",
     "text": [
      "第0次迭代，此时M=1，x=[[ 2.49923335]\n",
      " [-0.99945788]]，罚函数值为2.249999655690254\n",
      "第1次迭代，此时M=10，x=[[ 1.15007452]\n",
      " [-0.10005316]]，罚函数值为1.1249999671772926\n",
      "第2次迭代，此时M=100，x=[[ 1.01500787]\n",
      " [-0.0100053 ]]，罚函数值为1.012499996528114\n",
      "第3次迭代，此时M=1000，x=[[ 1.00150082e+00]\n",
      " [-1.00054772e-03]]，罚函数值为1.001249999625531\n",
      "第4次迭代，此时M=10000，x=[[ 1.00015008e+00]\n",
      " [-1.00054946e-04]]，罚函数值为1.0001249999622674\n",
      "第5次迭代，此时M=100000，x=[[ 1.00001501e+00]\n",
      " [-1.00054963e-05]]，罚函数值为1.0000124999962239\n",
      "第6次迭代，此时M=1000000，x=[[ 1.00000150e+00]\n",
      " [-1.00054965e-06]]，罚函数值为1.0000012499996223\n",
      "结果：第6次迭代后收敛，此时M=1000000，x=[[ 1.00000150e+00]\n",
      " [-1.00054965e-06]]，函数值为1.0000025013741238\n"
     ]
    }
   ],
   "source": [
    "X = mx(0,0)#起始点\n",
    "eps = 0.00001\n",
    "M = 1\n",
    "C = 10\n",
    "k = 0\n",
    "MAX = 1#初始化Mka（x）\n",
    "while MAX>eps:\n",
    "    if float(X[1])>= 1:\n",
    "        A = [[2*M,1],[1,2*M]]\n",
    "    else:\n",
    "        A = [[2*M,1],[1,4*M]]\n",
    "    A = mat(A)\n",
    "    xx,ff = Newton(f,A,X)\n",
    "    MAX = float(ff-(-xx[0]+xx[1]))\n",
    "    print('第{}次迭代，此时M={}，x={}，罚函数值为{}'.format(k,M,xx,-ff))\n",
    "    if MAX>eps:\n",
    "        k += 1\n",
    "        X = xx\n",
    "        M = M*C\n",
    "print('结果：第{}次迭代后收敛，此时M={}，x={}，函数值为{}'.format(k,M,xx,-float(xx[1]-xx[0])))"
   ]
  }
 ],
 "metadata": {
  "kernelspec": {
   "display_name": "Python 3",
   "language": "python",
   "name": "python3"
  },
  "language_info": {
   "codemirror_mode": {
    "name": "ipython",
    "version": 3
   },
   "file_extension": ".py",
   "mimetype": "text/x-python",
   "name": "python",
   "nbconvert_exporter": "python",
   "pygments_lexer": "ipython3",
   "version": "3.7.1"
  }
 },
 "nbformat": 4,
 "nbformat_minor": 2
}
