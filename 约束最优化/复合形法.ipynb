{
 "cells": [
  {
   "cell_type": "code",
   "execution_count": 1,
   "metadata": {},
   "outputs": [],
   "source": [
    "import numpy as np\n",
    "import numpy.matlib \n",
    "from numpy import matrix as mat"
   ]
  },
  {
   "cell_type": "code",
   "execution_count": 2,
   "metadata": {},
   "outputs": [],
   "source": [
    "def f(x):#目标函数\n",
    "    return float(x[0]**2+2*x[1]**2-4*x[0]-8*x[1]+15)\n",
    "\n",
    "def mx(x1,x2):#构造矩阵[[x1],[x2]]\n",
    "    return mat([[x1],[x2]])\n",
    "\n",
    "def meanmx(x):\n",
    "    m1,m2 = 0,0\n",
    "    for i in range(len(x)):\n",
    "        m1 += float(x[i][0])\n",
    "        m2 += float(x[i][1])\n",
    "    return mx(m1/len(x),m2/len(x))\n",
    "\n",
    "def inrange(x):\n",
    "    if float(x[0])>=1 and float(x[0])<=3 and float(x[1])>=0.5 and float(x[1])<=3:\n",
    "        return True\n",
    "    else:\n",
    "        return False\n",
    "    \n",
    "def mode(g):\n",
    "    return ((float(g[0])**2+float(g[1]**2))**(0.5))"
   ]
  },
  {
   "cell_type": "code",
   "execution_count": 3,
   "metadata": {},
   "outputs": [],
   "source": [
    "x = [mx(1,1),mx(2,2),mx(2,1),mx(1,2)]\n",
    "t0 = 1\n",
    "u = 0.5\n",
    "eps = 0.2\n",
    "end = 0\n",
    "time = 0"
   ]
  },
  {
   "cell_type": "code",
   "execution_count": 4,
   "metadata": {},
   "outputs": [
    {
     "name": "stdout",
     "output_type": "stream",
     "text": [
      "第1次迭代，退出(1.0, 1.0)，加入(2.3333333333333335, 2.3333333333333335)\n",
      "第2次迭代，退出(2.0, 1.0)，加入(1.666666666666667, 2.666666666666667)\n",
      "第3次迭代，退出(1.0, 2.0)，加入(2.500000000000001, 2.5)\n",
      "第4次迭代，退出(1.666666666666667, 2.666666666666667)，加入(2.8888888888888893, 1.8888888888888893)\n",
      "第5次迭代，退出(2.8888888888888893, 1.8888888888888893)，加入(1.9722222222222225, 2.4722222222222223)\n",
      "第6次迭代，退出(2.500000000000001, 2.5)，加入(1.7037037037037033, 2.037037037037037)\n",
      "第7次迭代，退出(1.9722222222222225, 2.4722222222222223)，加入(2.052469135802469, 1.7746913580246915)\n",
      "第8次迭代，退出(2.3333333333333335, 2.3333333333333335)，加入(1.7114197530864192, 1.7391975308641976)\n",
      "第9次迭代，退出(1.7114197530864192, 1.7391975308641976)，加入(2.126028806584362, 2.1352880658436213)\n",
      "第10次迭代，退出(2.052469135802469, 1.7746913580246915)，加入(1.8886316872427984, 2.1988168724279835)\n",
      "最终点[[1.92959105]\n",
      " [2.09278549]]，最优值3.022175716056527\n"
     ]
    }
   ],
   "source": [
    "while end==0:\n",
    "    t = t0\n",
    "    s = [f(xx) for xx in x]\n",
    "    x1 = x[s.index(max(s))]\n",
    "    del(x[s.index(max(s))])\n",
    "    x0 = meanmx(x)\n",
    "    xr = x0+t*(x0-x1)\n",
    "    while not inrange(xr) or f(xr)>=f(x1):\n",
    "        t = t*u\n",
    "        xr = x0+t*(x0-x1)\n",
    "    if inrange(xr) and f(xr)<f(x1):\n",
    "        x.append(xr)\n",
    "        time += 1 \n",
    "        print('第{}次迭代，退出{}，加入{}'.format(time,(float(x1[0]),float(x1[1])),(float(xr[0]),float(xr[1]))))\n",
    "    s = [f(xx) for xx in x]\n",
    "    xm = x[s.index(max(s))]\n",
    "    if mode(xm-meanmx(x))<=0.2:\n",
    "        end = 1 \n",
    "finalx = meanmx(x)\n",
    "print('最终点{}，最优值{}'.format(finalx,f(finalx)))"
   ]
  },
  {
   "cell_type": "code",
   "execution_count": null,
   "metadata": {},
   "outputs": [],
   "source": []
  }
 ],
 "metadata": {
  "kernelspec": {
   "display_name": "Python 3",
   "language": "python",
   "name": "python3"
  },
  "language_info": {
   "codemirror_mode": {
    "name": "ipython",
    "version": 3
   },
   "file_extension": ".py",
   "mimetype": "text/x-python",
   "name": "python",
   "nbconvert_exporter": "python",
   "pygments_lexer": "ipython3",
   "version": "3.7.4"
  }
 },
 "nbformat": 4,
 "nbformat_minor": 2
}
