{
 "cells": [
  {
   "cell_type": "code",
   "execution_count": 2,
   "metadata": {},
   "outputs": [],
   "source": [
    "import numpy as np\n",
    "import numpy.matlib \n",
    "from numpy import matrix as mat"
   ]
  },
  {
   "cell_type": "code",
   "execution_count": 3,
   "metadata": {},
   "outputs": [],
   "source": [
    "def f(x):#目标函数\n",
    "    return float(x[0]**2+2*x[1]**2-4*x[0]-8*x[1]+15)\n",
    "    \n",
    "def mx(x1,x2):#构造矩阵[[x1],[x2]]\n",
    "    return mat([[x1],[x2]])\n",
    "\n",
    "def mode(g):\n",
    "    return ((float(g[0])**2+float(g[1]**2))**(0.5))\n",
    "\n",
    "#定义操作函数\n",
    "def inrange(x):\n",
    "    global t,s,t_f\n",
    "    if float(x[0])>=0 and float(x[1])>=0 and float(x[0]**2+x[1]**2)<=9:\n",
    "        t_f = t\n",
    "        t = t*u\n",
    "    else:\n",
    "        s = 1\n",
    "\n",
    "def initg(t0):#初始化\n",
    "    global t,t_f,n,s\n",
    "    t = t0\n",
    "    t_f = 0 \n",
    "    n = 0\n",
    "    s = 0"
   ]
  },
  {
   "cell_type": "code",
   "execution_count": 4,
   "metadata": {},
   "outputs": [],
   "source": [
    "X0= mx(0,0)\n",
    "X1= mx(1,1)\n",
    "e1 = mx(1,0)\n",
    "e2 = mx(0,1)\n",
    "t0 = 0.05\n",
    "k = 1\n",
    "time = 0\n",
    "u = 2\n",
    "end = 0"
   ]
  },
  {
   "cell_type": "code",
   "execution_count": 5,
   "metadata": {},
   "outputs": [
    {
     "name": "stdout",
     "output_type": "stream",
     "text": [
      "第1次迭代,得到点[1.6, 1.6]\n",
      "第2次迭代,得到点[2.0, 2.0]\n",
      "第3次迭代,得到最终点[2.0, 2.0]，此时函数最优值为3.0\n"
     ]
    }
   ],
   "source": [
    "while end==0:\n",
    "    initg(t0)\n",
    "    while s==0:\n",
    "        if f(X0+t*e1)<f(X0):\n",
    "            if f(X0+t*e1)>f(X0+t_f*e1):\n",
    "                s = 1\n",
    "            else:\n",
    "                n += 1 \n",
    "#                 print(n,f(X0+t*e1),X0+t*e1)\n",
    "                inrange(X0+t*e1)\n",
    "        elif f(X0+t*e1)>f(X0) and n ==0:\n",
    "            t *= -1\n",
    "            n += 1#防止反复横跳\n",
    "        elif f(X0+t*e1)==f(X0) and n ==0:\n",
    "            t = 0\n",
    "        else:\n",
    "            s = 1\n",
    "        if s == 1 :\n",
    "            t = t/u\n",
    "            X = X0+t*e1\n",
    "    initg(t0)\n",
    "    while s==0:\n",
    "        if f(X+t*e2)<f(X):\n",
    "            if f(X+t*e2)>f(X+t_f*e2):\n",
    "                s = 1\n",
    "            else:\n",
    "                n += 1 \n",
    "#                 print(n,f(X+t*e2),X+t*e2)\n",
    "                inrange(X+t*e2)\n",
    "        elif f(X+t*e2)>f(X) and n ==0:\n",
    "            t *= -1\n",
    "            n += 1#防止反复横跳\n",
    "        elif f(X+t*e2)==f(X) and n ==0:\n",
    "            t = 0\n",
    "        else:\n",
    "            s = 1\n",
    "        if s == 1 :\n",
    "            t = t/u\n",
    "            X1 = X+t*e2\n",
    "    if mode(X1-X0)>=0.1:\n",
    "        X0 = X1\n",
    "        time += 1\n",
    "        print('第{}次迭代,得到点{}'.format(time,[float(X0[0]),float(X0[1])]))\n",
    "    else:\n",
    "        end = 1\n",
    "print('第{}次迭代,得到最终点{}，此时函数最优值为{}'.format(time+1,[float(X0[0]),float(X0[1])],f(X0)))"
   ]
  },
  {
   "cell_type": "code",
   "execution_count": null,
   "metadata": {},
   "outputs": [],
   "source": []
  }
 ],
 "metadata": {
  "kernelspec": {
   "display_name": "Python 3",
   "language": "python",
   "name": "python3"
  },
  "language_info": {
   "codemirror_mode": {
    "name": "ipython",
    "version": 3
   },
   "file_extension": ".py",
   "mimetype": "text/x-python",
   "name": "python",
   "nbconvert_exporter": "python",
   "pygments_lexer": "ipython3",
   "version": "3.7.1"
  }
 },
 "nbformat": 4,
 "nbformat_minor": 2
}
