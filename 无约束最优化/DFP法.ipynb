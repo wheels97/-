{
 "cells": [
  {
   "cell_type": "code",
   "execution_count": 1,
   "metadata": {},
   "outputs": [],
   "source": [
    "import numpy as np\n",
    "import numpy.matlib \n",
    "from numpy import matrix as mat\n",
    "from ODsearch import s_dis,goldcut"
   ]
  },
  {
   "cell_type": "code",
   "execution_count": 2,
   "metadata": {},
   "outputs": [],
   "source": [
    "A = [[8,0],[0,2]]\n",
    "A = mat(A)\n",
    "\n",
    "def f(x):#目标函数\n",
    "    return float(4*(x[0]-5)**2+(x[1]-6)**2)\n",
    "\n",
    "def df(x):#计算梯度   \n",
    "    return mx(float(8*x[0]-40),float(2*x[1]-12))\n",
    "\n",
    "def mx(x1,x2):#构造矩阵[[x1],[x2]]\n",
    "    return mat([[x1],[x2]])\n",
    "\n",
    "def mode(g):\n",
    "    return ((float(g[0])**2+float(g[1]**2))**(0.5))"
   ]
  },
  {
   "cell_type": "code",
   "execution_count": 3,
   "metadata": {},
   "outputs": [
    {
     "name": "stdout",
     "output_type": "stream",
     "text": [
      "第 0 次迭代，取点 [8.0, 9.0] .T ，函数值: 45.0  ，梯度： [24.0, 6.0] .T\n",
      "第 1 次迭代，取点 [5.000000021799717, 5.999999651204535] .T ，函数值: 1.2355918727552315e-13  ，梯度： [-1.1076923076923109, 4.430769230769229] .T\n",
      "迭代结束，在点 [5.000000021799717, 5.999999651204535] .T取得极小值 1.2355918727552315e-13\n"
     ]
    }
   ],
   "source": [
    "X = mx(8,9)#起始点\n",
    "H0 = mat([[1,0],[0,1]])\n",
    "n = 0\n",
    "eps = 0.01#误差精度\n",
    "g = df(X)\n",
    "print('第',0,'次迭代，取点',[float(X[0]),float(X[1])],'.T ，函数值:',f(X),' ，梯度：',[float(g[0]),float(g[1])],'.T')\n",
    "while mode(g)>=eps:\n",
    "    if n>= 1:\n",
    "        pass  \n",
    "    X1 = X-float(g.T*g)/float(g.T*A*g)*g\n",
    "    g1 = df(X1)\n",
    "    S0 = X1-X\n",
    "    y0 = g1-g\n",
    "    H1 = H0+(S0*S0.T)/float(S0.T*y0)-y0*y0.T/float(y0.T*H0*y0)\n",
    "    P1 = -H1*g1\n",
    "    def s(t):\n",
    "        return f(X1+t*P1)\n",
    "    t = goldcut(s_dis(s),s)\n",
    "    X2 = X1+t*P1\n",
    "    print('第',n+1,'次迭代，取点',[float(X2[0]),float(X2[1])],'.T ，函数值:',f(X2),' ，梯度：',[float(g1[0]),float(g1[1])],'.T')\n",
    "    n += 1\n",
    "    X,g,H0 =X2,df(X2),H1\n",
    "print('迭代结束，在点',[float(X[0]),float(X[1])],'.T取得极小值',f(X))"
   ]
  }
 ],
 "metadata": {
  "kernelspec": {
   "display_name": "Python 3",
   "language": "python",
   "name": "python3"
  },
  "language_info": {
   "codemirror_mode": {
    "name": "ipython",
    "version": 3
   },
   "file_extension": ".py",
   "mimetype": "text/x-python",
   "name": "python",
   "nbconvert_exporter": "python",
   "pygments_lexer": "ipython3",
   "version": "3.7.4"
  }
 },
 "nbformat": 4,
 "nbformat_minor": 2
}
