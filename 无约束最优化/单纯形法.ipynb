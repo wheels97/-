{
 "cells": [
  {
   "cell_type": "code",
   "execution_count": 1,
   "metadata": {},
   "outputs": [],
   "source": [
    "import numpy as np\n",
    "import numpy.matlib \n",
    "from numpy import matrix as mat"
   ]
  },
  {
   "cell_type": "code",
   "execution_count": 2,
   "metadata": {},
   "outputs": [],
   "source": [
    "def f(x):#目标函数\n",
    "    return float(x[0]**2+2*x[1]**2-4*x[0]-8*x[1]+5)\n",
    "\n",
    "def mx(x1,x2):#构造矩阵[[x1],[x2]]\n",
    "    return mat([[x1],[x2]])"
   ]
  },
  {
   "cell_type": "code",
   "execution_count": 3,
   "metadata": {},
   "outputs": [
    {
     "name": "stdout",
     "output_type": "stream",
     "text": [
      "第0次迭代，初始点为(0.0, 0.0),(0.965, 0.259),(0.259, 0.965)\n",
      "第1次迭代，得到点(1.2852000000000001, 1.2852000000000001),(0.965, 0.259),(0.259, 0.965)\n",
      "第2次迭代，得到点(0.5792, 1.9912),(0.259, 0.965),(1.2852000000000001, 1.2852000000000001)\n",
      "第3次迭代，得到点(1.6054000000000004, 2.3114000000000003),(0.5792, 1.9912),(1.2852000000000001, 1.2852000000000001)\n",
      "第4次迭代，得到点(2.3114000000000003, 1.6054000000000004),(1.2852000000000001, 1.2852000000000001),(1.6054000000000004, 2.3114000000000003)\n",
      "第5次迭代，得到点(2.2950000000000004, 2.2950000000000004),(2.3114000000000003, 1.6054000000000004),(1.6054000000000004, 2.3114000000000003)\n",
      "结果：在(2.2950000000000004, 2.2950000000000004)取得最优解为-6.738924999999998\n"
     ]
    }
   ],
   "source": [
    "alpha = 1.1\n",
    "beta = 0.5\n",
    "eps = 0.1\n",
    "x = [mx(0,0),mx(0.965,0.259),mx(0.259,0.965)]\n",
    "n = 0\n",
    "print('第{}次迭代，初始点为{},{},{}'.format(n,(float(x[0][0]),float(x[0][1])),\n",
    "                             (float(x[1][0]),float(x[1][1])),\n",
    "                             (float(x[2][0]),float(x[2][1]))))\n",
    "g = 100\n",
    "while g>=eps:\n",
    "    global f\n",
    "    s = [f(t) for t in x]\n",
    "    X1 = x[s.index(max(s))]\n",
    "    X3 = x[s.index(min(s))]\n",
    "    num = [0,1,2]\n",
    "    num.remove(s.index(max(s)))\n",
    "    num.remove(s.index(min(s)))\n",
    "    X2 = x[num[0]]\n",
    "    X4 = (X2+X3)/2\n",
    "    X5 = 2*X4-X1\n",
    "    if f(X5)<f(X3):\n",
    "        X6 = X4+alpha*(X5-X4)\n",
    "        if f(X6)<f(X5):\n",
    "            X1 = X6\n",
    "        else:\n",
    "            X1 = X5\n",
    "    elif f(X3)<=f(X5) and f(X5)<f(X2):\n",
    "        X1 = X5\n",
    "    elif f(X2)<=f(X5) and f(X5)<f(X1):\n",
    "        X7 = X4+beta*(X5-X4)\n",
    "        X1 = X7\n",
    "    elif f(X1)<=f(X5):\n",
    "        X8 = X4-beta*(X1-X4)\n",
    "        if f(X8)>=f(X1):\n",
    "            X1,X2 = (X1+X3)/2,(X2+X3)/2\n",
    "        else:\n",
    "            X1 = X8   \n",
    "    x = [X1,X2,X3]\n",
    "    n += 1 \n",
    "    print('第{}次迭代，得到点{},{},{}'.format(n,(float(x[0][0]),float(x[0][1])),\n",
    "                             (float(x[1][0]),float(x[1][1])),\n",
    "                             (float(x[2][0]),float(x[2][1]))))\n",
    "    val = [f(t) for t in x]\n",
    "    g = abs((max(val)-min(val))/min(val))\n",
    "    BS = x[val.index(min(val))]\n",
    "print('结果：在{}取得最优解为{}'.format((float(BS[0]),float(BS[1])),f(BS)))"
   ]
  }
 ],
 "metadata": {
  "kernelspec": {
   "display_name": "Python 3",
   "language": "python",
   "name": "python3"
  },
  "language_info": {
   "codemirror_mode": {
    "name": "ipython",
    "version": 3
   },
   "file_extension": ".py",
   "mimetype": "text/x-python",
   "name": "python",
   "nbconvert_exporter": "python",
   "pygments_lexer": "ipython3",
   "version": "3.7.4"
  }
 },
 "nbformat": 4,
 "nbformat_minor": 2
}
