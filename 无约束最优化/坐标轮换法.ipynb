{
 "cells": [
  {
   "cell_type": "code",
   "execution_count": 1,
   "metadata": {},
   "outputs": [],
   "source": [
    "import numpy as np\n",
    "import numpy.matlib \n",
    "from numpy import matrix as mat\n",
    "from ODsearch import s_dis,goldcut"
   ]
  },
  {
   "cell_type": "code",
   "execution_count": 2,
   "metadata": {},
   "outputs": [],
   "source": [
    "def f(x):#目标函数\n",
    "    return float(60-10*x[0]-4*x[1]+x[0]**2+x[1]**2-x[0]*x[1])\n",
    "\n",
    "def mx(x1,x2):#构造矩阵[[x1],[x2]]\n",
    "    return mat([[x1],[x2]])\n",
    "\n",
    "def mode(g):\n",
    "    return ((float(g[0])**2+float(g[1]**2))**(0.5))"
   ]
  },
  {
   "cell_type": "code",
   "execution_count": 3,
   "metadata": {},
   "outputs": [
    {
     "name": "stdout",
     "output_type": "stream",
     "text": [
      "第 0 次迭代，取点 [0.0, 0.0] .T ，函数值: 60.0\n",
      "第 1 次迭代，取点 [5.000000012534221, 4.4999998782876816] .T ，函数值: 14.749999943596023\n",
      "第 2 次迭代，取点 [7.2499997511974055, 5.625000114434287] .T ，函数值: 8.42187527990302\n",
      "第 3 次迭代，取点 [7.81250005303408, 5.906250216752712] .T ，函数值: 8.026367172584209\n",
      "第 4 次迭代，取点 [7.953125201469371, 5.9765625838176435] .T ，函数值: 8.00164793505298\n",
      "第 5 次迭代，取点 [7.953124719861688, 5.976562102209961] .T ，函数值: 8.001647968916103\n",
      "迭代结束，在点 [7.953124719861688, 5.976562102209961] .T取得极小值 8.001647968916103\n"
     ]
    }
   ],
   "source": [
    "e1 = mx(1,0) \n",
    "e2 = mx(0,1)\n",
    "X = mx(0,0)\n",
    "n = 0\n",
    "eps = 0.1#误差精度\n",
    "g = mx(1,1)\n",
    "print('第',0,'次迭代，取点',[float(X[0]),float(X[1])],'.T ，函数值:',f(X))\n",
    "while mode(g)>=eps:\n",
    "    if n>=1:\n",
    "        X = X2\n",
    "    def s1(t):\n",
    "        return f(X+t*e1)\n",
    "    t1 = goldcut(s_dis(s1),s1)\n",
    "    X1 = X+t1*e1\n",
    "    def s2(t):\n",
    "        return f(X1+t*e2)\n",
    "    t2 = goldcut(s_dis(s2),s2)\n",
    "    X2 = X1+t2*e2\n",
    "    g = X2-X\n",
    "    print('第',n+1,'次迭代，取点',[float(X2[0]),float(X2[1])],'.T ，函数值:',f(X2))\n",
    "    n += 1\n",
    "print('迭代结束，在点',[float(X2[0]),float(X2[1])],'.T取得极小值',f(X2))"
   ]
  }
 ],
 "metadata": {
  "kernelspec": {
   "display_name": "Python 3",
   "language": "python",
   "name": "python3"
  },
  "language_info": {
   "codemirror_mode": {
    "name": "ipython",
    "version": 3
   },
   "file_extension": ".py",
   "mimetype": "text/x-python",
   "name": "python",
   "nbconvert_exporter": "python",
   "pygments_lexer": "ipython3",
   "version": "3.7.4"
  }
 },
 "nbformat": 4,
 "nbformat_minor": 2
}
