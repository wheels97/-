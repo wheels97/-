{
 "cells": [
  {
   "cell_type": "code",
   "execution_count": 1,
   "metadata": {},
   "outputs": [],
   "source": [
    "import numpy as np\n",
    "import numpy.matlib \n",
    "from numpy import matrix as mat"
   ]
  },
  {
   "cell_type": "code",
   "execution_count": 2,
   "metadata": {},
   "outputs": [],
   "source": [
    "A = [[2,-1],[-1,2]]\n",
    "A = mat(A)\n",
    "\n",
    "def f(x):#目标函数\n",
    "    return float(60-10*x[0]-4*x[1]+x[0]**2+x[1]**2-x[0]*x[1])\n",
    "\n",
    "def df(x):#计算梯度   \n",
    "    return mx(float(-10+2*x[0]-x[1]),float(-4-x[0]+2*x[1]))\n",
    "\n",
    "def mx(x1,x2):#构造矩阵[[x1],[x2]]\n",
    "    return mat([[x1],[x2]])\n",
    "\n",
    "def mode(g):\n",
    "    return ((float(g[0])**2+float(g[1]**2))**(0.5))"
   ]
  },
  {
   "cell_type": "code",
   "execution_count": 3,
   "metadata": {},
   "outputs": [
    {
     "name": "stdout",
     "output_type": "stream",
     "text": [
      "第 0 次迭代，取点 [-3.0, -3.0] .T ，函数值: 111.0  ，梯度： [-13.0, -7.0] .T\n",
      "第 1 次迭代，取点 [8.0, 6.0] .T ，函数值: 8.0  ，梯度： [0.0, 0.0] .T\n",
      "迭代结束，在点 [8.0, 6.0] .T取得极小值 8.0\n"
     ]
    }
   ],
   "source": [
    "X = mx(-3,-3)#起始点\n",
    "n = 0\n",
    "eps = 0.01#误差精度\n",
    "g = df(X)\n",
    "print('第',0,'次迭代，取点',[float(X[0]),float(X[1])],'.T ，函数值:',f(X),' ，梯度：',[float(g[0]),float(g[1])],'.T')\n",
    "while mode(g)>=eps:\n",
    "    if n>= 1:\n",
    "        X = X1\n",
    "    fx = f(X)\n",
    "    X1 = X-A.I*g\n",
    "    g = df(X1)\n",
    "    print('第',n+1,'次迭代，取点',[float(X1[0]),float(X1[1])],'.T ，函数值:',f(X1),' ，梯度：',[float(g[0]),float(g[1])],'.T')\n",
    "    n += 1\n",
    "print('迭代结束，在点',[float(X1[0]),float(X1[1])],'.T取得极小值',f(X1))"
   ]
  }
 ],
 "metadata": {
  "kernelspec": {
   "display_name": "Python 3",
   "language": "python",
   "name": "python3"
  },
  "language_info": {
   "codemirror_mode": {
    "name": "ipython",
    "version": 3
   },
   "file_extension": ".py",
   "mimetype": "text/x-python",
   "name": "python",
   "nbconvert_exporter": "python",
   "pygments_lexer": "ipython3",
   "version": "3.7.4"
  }
 },
 "nbformat": 4,
 "nbformat_minor": 2
}
