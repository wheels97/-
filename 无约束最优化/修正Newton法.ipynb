{
 "cells": [
  {
   "cell_type": "code",
   "execution_count": 1,
   "metadata": {},
   "outputs": [],
   "source": [
    "import numpy as np\n",
    "import numpy.matlib \n",
    "from numpy import matrix as mat\n",
    "from ODsearch import s_dis,goldcut"
   ]
  },
  {
   "cell_type": "code",
   "execution_count": 2,
   "metadata": {},
   "outputs": [],
   "source": [
    "A = [[8,0],[0,4]]\n",
    "A = mat(A)\n",
    "\n",
    "def f(x):#目标函数\n",
    "    return float(4*(x[0]+1)**2+2*(x[1]-1)**2+x[0]+x[1]+10)\n",
    "\n",
    "def df(x):#计算梯度   \n",
    "    return mx(float(8*x[0]+9),float(4*x[1]-3))\n",
    "\n",
    "def mx(x1,x2):#构造矩阵[[x1],[x2]]\n",
    "    return mat([[x1],[x2]])\n",
    "\n",
    "def mode(g):\n",
    "    return ((float(g[0])**2+float(g[1]**2))**(0.5))\n",
    "\n",
    "def p(x):\n",
    "    return -A.I*df(x)"
   ]
  },
  {
   "cell_type": "code",
   "execution_count": 3,
   "metadata": {},
   "outputs": [
    {
     "name": "stdout",
     "output_type": "stream",
     "text": [
      "第 0 次迭代，取点 [0.0, 0.0] .T ，函数值: 16.0  ，梯度： [9.0, -3.0] .T\n",
      "第 1 次迭代，取点 [-1.1249982006484534, 0.7499988004323023] .T ，函数值: 9.81250000001583  ，梯度： [1.4394812373197396e-05, -4.798270790917769e-06] .T\n",
      "迭代结束，在点 [-1.1249982006484534, 0.7499988004323023] .T取得极小值 9.81250000001583\n"
     ]
    }
   ],
   "source": [
    "X = mx(0,0)#起始点\n",
    "n = 0\n",
    "eps = 0.01#误差精度\n",
    "g = df(X)\n",
    "print('第',0,'次迭代，取点',[float(X[0]),float(X[1])],'.T ，函数值:',f(X),' ，梯度：',[float(g[0]),float(g[1])],'.T')\n",
    "while mode(g)>=eps:\n",
    "    if n>= 1:\n",
    "        X = X1\n",
    "    fx = f(X)\n",
    "    def s(t):\n",
    "        return f(X+t*p(X))\n",
    "    t = goldcut(s_dis(s),s)\n",
    "    X1 = X+t*p(X)\n",
    "    g = df(X1)\n",
    "    print('第',n+1,'次迭代，取点',[float(X1[0]),float(X1[1])],'.T ，函数值:',f(X1),' ，梯度：',[float(g[0]),float(g[1])],'.T')\n",
    "    n += 1\n",
    "print('迭代结束，在点',[float(X1[0]),float(X1[1])],'.T取得极小值',f(X1))"
   ]
  }
 ],
 "metadata": {
  "kernelspec": {
   "display_name": "Python 3",
   "language": "python",
   "name": "python3"
  },
  "language_info": {
   "codemirror_mode": {
    "name": "ipython",
    "version": 3
   },
   "file_extension": ".py",
   "mimetype": "text/x-python",
   "name": "python",
   "nbconvert_exporter": "python",
   "pygments_lexer": "ipython3",
   "version": "3.7.4"
  }
 },
 "nbformat": 4,
 "nbformat_minor": 2
}
