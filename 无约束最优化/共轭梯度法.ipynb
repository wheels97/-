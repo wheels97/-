{
 "cells": [
  {
   "cell_type": "code",
   "execution_count": 1,
   "metadata": {},
   "outputs": [],
   "source": [
    "import numpy as np\n",
    "import numpy.matlib \n",
    "from numpy import matrix as mat\n",
    "from ODsearch import s_dis,goldcut"
   ]
  },
  {
   "cell_type": "code",
   "execution_count": 2,
   "metadata": {},
   "outputs": [],
   "source": [
    "A = [[4,-1],[-1,2]]\n",
    "A = mat(A)\n",
    "\n",
    "def f(x):#目标函数\n",
    "    return float(2*x[0]**2+x[1]**2-x[0]*x[1])\n",
    "\n",
    "def df(x):#计算梯度   \n",
    "    return mx(float(4*x[0]-x[1]),float(-x[0]+2*x[1]))\n",
    "\n",
    "def mx(x1,x2):#构造矩阵[[x1],[x2]]\n",
    "    return mat([[x1],[x2]])\n",
    "\n",
    "def mode(g):\n",
    "    return ((float(g[0])**2+float(g[1]**2))**(0.5))\n",
    "\n",
    "def p(x):\n",
    "    return -df(x)"
   ]
  },
  {
   "cell_type": "code",
   "execution_count": 3,
   "metadata": {},
   "outputs": [
    {
     "name": "stdout",
     "output_type": "stream",
     "text": [
      "第 0 次迭代，取点 [20.0, -15.0] .T ，函数值: 1325.0  ，梯度： [95.0, -50.0] .T\n",
      "第 1 次迭代，取点 [-0.01543914668343005, -0.03406155721908499] .T ，函数值: 0.00111104280264244  ，梯度： [-0.027695029514635205, -0.052683967754739935] .T\n",
      "第 2 次迭代，取点 [1.651693182881924e-05, -1.2352265792684933e-05] .T ，函数值: 9.022180763180914e-10  ，梯度： [7.84199931079619e-05, -4.1221463414189106e-05] .T\n",
      "迭代结束，在点 [1.651693182881924e-05, -1.2352265792684933e-05] .T取得极小值 9.022180763180914e-10\n"
     ]
    }
   ],
   "source": [
    "X = mx(20,-15)#起始点\n",
    "n = 0\n",
    "eps = 0.01#误差精度\n",
    "g = df(X)\n",
    "print('第',0,'次迭代，取点',[float(X[0]),float(X[1])],'.T ，函数值:',f(X),' ，梯度：',[float(g[0]),float(g[1])],'.T')\n",
    "while mode(g)>=eps:\n",
    "    if n>=1:\n",
    "        X = X2\n",
    "    P0 = p(X)\n",
    "    def s0(t):\n",
    "        return f(X+t*p(X))\n",
    "    t0 = goldcut(s_dis(s0),s0)\n",
    "    X1 = X+t0*p(X)\n",
    "    lamb = mode(df(X1))**2/mode(df(X))**2\n",
    "    P1 = p(X1)+lamb*p(X)\n",
    "    def s1(t):\n",
    "        return f(X1+t*p(X1))\n",
    "    t1 = goldcut(s_dis(s1),s1)\n",
    "    X2 = X1+t1*P1\n",
    "    g = df(X2)\n",
    "    print('第',n+1,'次迭代，取点',[float(X2[0]),float(X2[1])],'.T ，函数值:',f(X2),' ，梯度：',[float(g[0]),float(g[1])],'.T')\n",
    "    n += 1\n",
    "print('迭代结束，在点',[float(X2[0]),float(X2[1])],'.T取得极小值',f(X2))"
   ]
  },
  {
   "cell_type": "code",
   "execution_count": null,
   "metadata": {},
   "outputs": [],
   "source": []
  }
 ],
 "metadata": {
  "kernelspec": {
   "display_name": "Python 3",
   "language": "python",
   "name": "python3"
  },
  "language_info": {
   "codemirror_mode": {
    "name": "ipython",
    "version": 3
   },
   "file_extension": ".py",
   "mimetype": "text/x-python",
   "name": "python",
   "nbconvert_exporter": "python",
   "pygments_lexer": "ipython3",
   "version": "3.7.4"
  }
 },
 "nbformat": 4,
 "nbformat_minor": 2
}
