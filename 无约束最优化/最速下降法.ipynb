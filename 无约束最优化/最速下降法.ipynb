{
 "cells": [
  {
   "cell_type": "code",
   "execution_count": 5,
   "metadata": {},
   "outputs": [],
   "source": [
    "import numpy as np\n",
    "import numpy.matlib \n",
    "from numpy import matrix as mat"
   ]
  },
  {
   "cell_type": "code",
   "execution_count": 6,
   "metadata": {},
   "outputs": [],
   "source": [
    "A = [[2,0],[0,50]]\n",
    "\n",
    "def f(x):#目标函数\n",
    "    return float(x[0]**2+25*x[1]**2)\n",
    "\n",
    "def df(x):#计算梯度\n",
    "    dfx = A*x\n",
    "    return dfx \n",
    "\n",
    "def mx(x1,x2):#构造矩阵[[x1],[x2]]\n",
    "    return mat([[x1],[x2]])\n",
    "\n",
    "def mode(g):\n",
    "    return ((float(g[0])**2+float(g[1]**2))**(0.5))"
   ]
  },
  {
   "cell_type": "code",
   "execution_count": 7,
   "metadata": {},
   "outputs": [
    {
     "name": "stdout",
     "output_type": "stream",
     "text": [
      "第 0 次迭代，取点 [1.0, 1.0] .T ，函数值: 26.0  ，梯度： [2.0, 50.0] .T\n",
      "第 1 次迭代，取点 [0.9599385639319084, -0.0015359017022911203] .T ，函数值: 0.921541021374632  ，梯度： [1.9198771278638167, -0.07679508511455602] .T\n",
      "第 2 次迭代，取点 [0.03544388543748889, 0.03544388543748727] .T ，函数值: 0.032662994387548897  ，梯度： [0.07088777087497777, 1.7721942718743635] .T\n",
      "第 3 次迭代，取点 [0.03402395248703016, -5.443832397925008e-05] .T ，函数值: 0.0011577034311176277  ，梯度： [0.06804790497406032, -0.002721916198962504] .T\n",
      "第 4 次迭代，取点 [0.00125626901490581, 0.001256269014905768] .T ，函数值: 4.103350778312013e-05  ，梯度： [0.00251253802981162, 0.0628134507452884] .T\n",
      "迭代结束，在点 [0.00125626901490581, 0.001256269014905768] .T取得极小值 4.103350778312013e-05\n"
     ]
    }
   ],
   "source": [
    "X = mx(1,1)#起始点\n",
    "n = 0\n",
    "eps = 0.01#误差精度\n",
    "g = df(X)\n",
    "while mode(g)>=eps:\n",
    "    if n>= 1:\n",
    "        X = X1\n",
    "    fx = f(X)\n",
    "    print('第',n,'次迭代，取点',[float(X[0]),float(X[1])],'.T ，函数值:',fx,' ，梯度：',[float(g[0]),float(g[1])],'.T')\n",
    "    X1 = X-float(g.T*g)/float(g.T*A*g)*g\n",
    "    g = df(X1)\n",
    "    n += 1\n",
    "print('迭代结束，在点',[float(X[0]),float(X[1])],'.T取得极小值',fx)"
   ]
  },
  {
   "cell_type": "code",
   "execution_count": null,
   "metadata": {},
   "outputs": [],
   "source": []
  }
 ],
 "metadata": {
  "kernelspec": {
   "display_name": "Python 3",
   "language": "python",
   "name": "python3"
  },
  "language_info": {
   "codemirror_mode": {
    "name": "ipython",
    "version": 3
   },
   "file_extension": ".py",
   "mimetype": "text/x-python",
   "name": "python",
   "nbconvert_exporter": "python",
   "pygments_lexer": "ipython3",
   "version": "3.7.4"
  }
 },
 "nbformat": 4,
 "nbformat_minor": 2
}
